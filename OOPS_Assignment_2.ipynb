{
  "nbformat": 4,
  "nbformat_minor": 0,
  "metadata": {
    "colab": {
      "provenance": []
    },
    "kernelspec": {
      "name": "python3",
      "display_name": "Python 3"
    },
    "language_info": {
      "name": "python"
    }
  },
  "cells": [
    {
      "cell_type": "code",
      "execution_count": 8,
      "metadata": {
        "id": "H3ZH9G7mr-uZ",
        "colab": {
          "base_uri": "https://localhost:8080/"
        },
        "outputId": "0c2a20e5-a544-4bd8-a362-59f8646320c6"
      },
      "outputs": [
        {
          "output_type": "stream",
          "name": "stdout",
          "text": [
            "The Dog makes the sound: Woof!\n",
            "The Cat makes the sound: Meow!\n"
          ]
        }
      ],
      "source": [
        "# Q1. What is Abstraction in OOps? Explain with an example.\n",
        "\n",
        "'''\n",
        "In Python, abstraction is achieved through abstract classes using the abc module, which stands for \"Abstract Base Classes.\"\n",
        "An abstract class cannot be instantiated directly;\n",
        "instead, it serves as a base for derived classes to inherit from and provides a common interface for its subclasses.'''\n",
        "\n",
        "\n",
        "from abc import ABC, abstractmethod\n",
        "\n",
        "class Animal(ABC):  # Abstract class\n",
        "    def __init__(self, name):\n",
        "        self.name = name\n",
        "\n",
        "    @abstractmethod\n",
        "    def sound(self):\n",
        "        pass\n",
        "\n",
        "    def show_info(self):\n",
        "        print(f\"The {self.name} makes the sound: {self.sound()}\")\n",
        "\n",
        "class Dog(Animal):\n",
        "    def sound(self):\n",
        "        return \"Woof!\"\n",
        "\n",
        "class Cat(Animal):\n",
        "    def sound(self):\n",
        "        return \"Meow!\"\n",
        "\n",
        "# Creating instances of derived classes\n",
        "dog = Dog(\"Dog\")\n",
        "cat = Cat(\"Cat\")\n",
        "\n",
        "dog.show_info()  # Output: The Dog makes the sound: Woof!\n",
        "cat.show_info()  # Output: The Cat makes the sound: Meow!\n",
        "\n",
        "\n"
      ]
    },
    {
      "cell_type": "code",
      "source": [
        "# Q2. Differentiate between Abstraction and Encapsulation. Explain with an example.\n",
        "\n",
        "'''\n",
        "Abstraction:\n",
        "Abstraction is a concept that focuses on hiding unnecessary details and presenting only essential information to the user.\n",
        "It simplifies complex systems by providing a high-level view. Abstraction is achieved through abstract classes and interfaces.\n",
        "\n",
        "Example:\n",
        "In the previous example, the Animal class represents abstraction.\n",
        "It defines the essential behavior (sound method) that all animals should have, without specifying the implementation.\n",
        "It hides the internal details of how each animal produces sound and provides a simplified interface (show_info method) to access the sound information.\n",
        "\n",
        "Encapsulation:\n",
        "Encapsulation is the process of bundling data and methods together within a class and controlling their access through encapsulation modifiers (e.g., public, private, protected).\n",
        "It helps in achieving data hiding and ensures that the internal state of an object is accessed and modified only through well-defined methods.'''\n",
        "\n",
        "class BankAccount:\n",
        "    def __init__(self, account_number, balance):\n",
        "        self.account_number = account_number\n",
        "        self.__balance = balance  # Private attribute\n",
        "\n",
        "    def deposit(self, amount):\n",
        "        # Perform validation and update the balance\n",
        "        self.__balance += amount\n",
        "\n",
        "    def withdraw(self, amount):\n",
        "        # Perform validation and update the balance\n",
        "        self.__balance -= amount\n",
        "\n",
        "    def get_balance(self):\n",
        "        # Return the balance\n",
        "        return self.__balance\n",
        "\n",
        "# Creating an instance of BankAccount\n",
        "account = BankAccount(\"1234567890\", 1000)\n",
        "\n",
        "print(account.account_number)  # Output: 1234567890\n",
        "print(account.get_balance())   # Output: 1000\n",
        "\n",
        "account.deposit(3500)\n",
        "print(account.get_balance())   # Output: 4500\n",
        "\n",
        "account.withdraw(2500)\n",
        "print(account.get_balance())   # Output: 2000\n",
        "\n",
        "# print(account.__balance)  # Error: 'BankAccount' object has no attribute '__balance'\n"
      ],
      "metadata": {
        "colab": {
          "base_uri": "https://localhost:8080/"
        },
        "id": "kIynf_Yyr5Zx",
        "outputId": "52e085c3-8aec-4af6-f628-d621bc6dc715"
      },
      "execution_count": 9,
      "outputs": [
        {
          "output_type": "stream",
          "name": "stdout",
          "text": [
            "1234567890\n",
            "1000\n",
            "4500\n",
            "2000\n"
          ]
        }
      ]
    },
    {
      "cell_type": "code",
      "source": [
        "# Q3. What is abc module in python? Why is it used?\n",
        "\n",
        "'''The `abc` module in Python stands for \"Abstract Base Classes.\" It provides mechanisms for defining abstract classes and interfaces. Abstract classes are classes that cannot be instantiated and are meant to be subclassed.\n",
        "\n",
        "The `abc` module is used to enforce a certain structure or contract for subclasses. By defining abstract classes, you can specify a set of methods or attributes that subclasses must implement. This helps in ensuring that subclasses adhere to a specific interface or behavior.\n",
        "\n",
        "Using abstract base classes can provide several benefits, including:\n",
        "\n",
        " 1. Encouraging code consistency: Abstract classes define a common interface that subclasses must follow, promoting consistency and standardization in the codebase.\n",
        "\n",
        " 2. Providing a clear structure: Abstract classes make the expected structure of subclasses explicit, making it easier to understand and maintain the code.\n",
        "\n",
        " 3. Enabling type checking: Abstract base classes can be used with type hints to indicate the expected behavior and types for subclasses. This helps in static type checking and catching potential errors early.\n",
        "\n",
        "In summary, the `abc` module in Python is used to define abstract base classes that enforce a certain structure or interface for subclasses, promoting code consistency, providing a clear structure, and enabling type checking.'''\n",
        "\n"
      ],
      "metadata": {
        "id": "DNd9Xvwcsz6h",
        "colab": {
          "base_uri": "https://localhost:8080/",
          "height": 140
        },
        "outputId": "ae473683-4d36-4f7b-951e-8fa2ea74d1c8"
      },
      "execution_count": 10,
      "outputs": [
        {
          "output_type": "execute_result",
          "data": {
            "text/plain": [
              "'The `abc` module in Python stands for \"Abstract Base Classes.\" It provides mechanisms for defining abstract classes and interfaces. Abstract classes are classes that cannot be instantiated and are meant to be subclassed.\\n\\nThe `abc` module is used to enforce a certain structure or contract for subclasses. By defining abstract classes, you can specify a set of methods or attributes that subclasses must implement. This helps in ensuring that subclasses adhere to a specific interface or behavior.\\n\\nUsing abstract base classes can provide several benefits, including:\\n\\n1. Encouraging code consistency: Abstract classes define a common interface that subclasses must follow, promoting consistency and standardization in the codebase.\\n\\n2. Providing a clear structure: Abstract classes make the expected structure of subclasses explicit, making it easier to understand and maintain the code.\\n\\n3. Enabling type checking: Abstract base classes can be used with type hints to indicate the expected behavior and types for subclasses. This helps in static type checking and catching potential errors early.\\n\\nIn summary, the `abc` module in Python is used to define abstract base classes that enforce a certain structure or interface for subclasses, promoting code consistency, providing a clear structure, and enabling type checking.'"
            ],
            "application/vnd.google.colaboratory.intrinsic+json": {
              "type": "string"
            }
          },
          "metadata": {},
          "execution_count": 10
        }
      ]
    },
    {
      "cell_type": "code",
      "source": [
        "# Q4. How can we achieve data abstraction?\n",
        "\n",
        "'''Data abstraction is a key concept in computer science and software engineering that involves hiding the complex implementation details of a system and exposing only\n",
        " the essential information or functionality to users or other parts of the system.It allows for easier understanding, efficient problem-solving, and code reusability.\n",
        " There are several techniques and principles that can help achieve data abstraction:'''\n",
        "\n",
        "\"\"\"Object-Oriented Programming (OOP): OOP is a programming paradigm that promotes data abstraction through the use of classes, objects, and inheritance.\n",
        " It allows for creating reusable and modular code by encapsulating data and behavior within objects and defining relationships between objects.\n",
        " OOP provides mechanisms like inheritance, polymorphism, and encapsulation, which aid in achieving abstraction.\"\"\"\n",
        "\n",
        "\"\"\"Encapsulation: Encapsulation is the process of bundling data and the methods or functions that operate on that data into a single unit called a class.\n",
        " It allows for hiding the internal workings of an object and exposing only the necessary methods or interfaces.\n",
        " By encapsulating data and providing well-defined interfaces, abstraction is achieved.\"\"\""
      ],
      "metadata": {
        "id": "6jy77SH3upni",
        "colab": {
          "base_uri": "https://localhost:8080/",
          "height": 70
        },
        "outputId": "4d164da0-9465-41b9-dafa-b65f4b3fba57"
      },
      "execution_count": 11,
      "outputs": [
        {
          "output_type": "execute_result",
          "data": {
            "text/plain": [
              "'Encapsulation: Encapsulation is the process of bundling data and the methods or functions that operate on that data into a single unit called a class.\\n It allows for hiding the internal workings of an object and exposing only the necessary methods or interfaces.\\n By encapsulating data and providing well-defined interfaces, abstraction is achieved.'"
            ],
            "application/vnd.google.colaboratory.intrinsic+json": {
              "type": "string"
            }
          },
          "metadata": {},
          "execution_count": 11
        }
      ]
    },
    {
      "cell_type": "code",
      "source": [
        "# Q5. Can we create an instance of an abstract class? Explain your answer.\n",
        "\n",
        "'''\n",
        "\n",
        "No, we cannot create an instance of an abstract class.An abstract class is a class that is meant to be subclassed but cannot be instantiated on its own.\n",
        "  It serves as a blueprint for other classes to inherit from and provides common attributes and methods that the subclasses must implement.\n",
        "  Since the abstract class itself may have incomplete or undefined functionality, it doesn't make sense to create an instance of it directly.\n",
        "  Instead, we create instances of concrete subclasses that inherit from the abstract class and provide implementations for the abstract methods, thus allowing us to utilize the functionality defined in the abstract class.'''\n"
      ],
      "metadata": {
        "colab": {
          "base_uri": "https://localhost:8080/",
          "height": 105
        },
        "id": "m2ro2xAa0j4D",
        "outputId": "de250b40-4d86-4653-f20b-fea03fabf9bc"
      },
      "execution_count": 12,
      "outputs": [
        {
          "output_type": "execute_result",
          "data": {
            "text/plain": [
              "\"\\n\\nNo, we cannot create an instance of an abstract class.An abstract class is a class that is meant to be subclassed but cannot be instantiated on its own.\\n  It serves as a blueprint for other classes to inherit from and provides common attributes and methods that the subclasses must implement. \\n  Since the abstract class itself may have incomplete or undefined functionality, it doesn't make sense to create an instance of it directly. \\n  Instead, we create instances of concrete subclasses that inherit from the abstract class and provide implementations for the abstract methods, thus allowing us to utilize the functionality defined in the abstract class.\""
            ],
            "application/vnd.google.colaboratory.intrinsic+json": {
              "type": "string"
            }
          },
          "metadata": {},
          "execution_count": 12
        }
      ]
    }
  ]
}